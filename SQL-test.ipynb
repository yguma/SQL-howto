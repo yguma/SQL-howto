{
 "cells": [
  {
   "cell_type": "markdown",
   "metadata": {
    "deletable": true,
    "editable": true
   },
   "source": [
    "# MongoDB"
   ]
  },
  {
   "cell_type": "code",
   "execution_count": 2,
   "metadata": {
    "collapsed": false,
    "deletable": true,
    "editable": true
   },
   "outputs": [
    {
     "name": "stdout",
     "output_type": "stream",
     "text": [
      "59e41779183b030044d64fbd\n"
     ]
    },
    {
     "name": "stderr",
     "output_type": "stream",
     "text": [
      "/app/.conda/lib/python3.6/site-packages/ipykernel_launcher.py:20: DeprecationWarning: insert is deprecated. Use insert_one or insert_many instead.\n"
     ]
    }
   ],
   "source": [
    "import time\n",
    "from pymongo import MongoClient\n",
    "\n",
    "\n",
    "mongodb_url = 'mongodb://your-db-url'\n",
    "client = MongoClient(mongodb_url)\n",
    "\n",
    "db = client['your-db']\n",
    "\n",
    "test_coll = db['test_coll'] #get collection\n",
    "\n",
    "the_time = time.strftime(\"%Y-%m-%d %H:%M:%S\", time.gmtime())\n",
    "data1 =  {\n",
    "  \"H\": 80, \n",
    "  \"T\": 30, \n",
    "  \"time\": the_time, \n",
    "  \"uuid\": \"yang_home\"\n",
    "}\n",
    "\n",
    "res = test_coll.insert(data1)\n",
    "print(res)\n"
   ]
  },
  {
   "cell_type": "code",
   "execution_count": 3,
   "metadata": {
    "collapsed": false,
    "deletable": true,
    "editable": true
   },
   "outputs": [
    {
     "name": "stdout",
     "output_type": "stream",
     "text": [
      "--> find all\n",
      "[{'_id': ObjectId('59e41779183b030044d64fbd'), 'H': 80, 'T': 30, 'time': '2017-10-16 02:20:41', 'uuid': 'yang_home'}]\n"
     ]
    }
   ],
   "source": [
    "# 查資料\n",
    "print('--> find all')\n",
    "res = test_coll.find() #全抓\n",
    "print(list(res))"
   ]
  },
  {
   "cell_type": "code",
   "execution_count": 8,
   "metadata": {
    "collapsed": false,
    "deletable": true,
    "editable": true
   },
   "outputs": [
    {
     "name": "stdout",
     "output_type": "stream",
     "text": [
      "result:  [ObjectId('59e41935183b030044d64fc2'), ObjectId('59e41935183b030044d64fc3')]\n",
      "----find data----\n",
      "--> find all\n"
     ]
    },
    {
     "name": "stderr",
     "output_type": "stream",
     "text": [
      "/app/.conda/lib/python3.6/site-packages/ipykernel_launcher.py:8: DeprecationWarning: insert is deprecated. Use insert_one or insert_many instead.\n",
      "  \n"
     ]
    },
    {
     "data": {
      "text/plain": [
       "[{'H': 80, 'T': 30, 'time': '2017-10-16 02:20:41', 'uuid': 'yang_home'},\n",
       " {'H': 90, 'T': 32, 'time': '2017-10-16 02:20:41', 'uuid': 'yang_home'},\n",
       " {'H': 85, 'T': 31, 'time': '2017-10-16 02:20:41', 'uuid': 'yang_home'},\n",
       " {'H': 90, 'T': 32, 'time': '2017-10-16 02:20:41', 'uuid': 'yang_home'},\n",
       " {'H': 85, 'T': 31, 'time': '2017-10-16 02:20:41', 'uuid': 'yang_home'},\n",
       " {'H': 90, 'T': 32, 'time': '2017-10-16 02:20:41', 'uuid': 'yang_home'},\n",
       " {'H': 85, 'T': 31, 'time': '2017-10-16 02:20:41', 'uuid': 'yang_home'}]"
      ]
     },
     "execution_count": 8,
     "metadata": {},
     "output_type": "execute_result"
    }
   ],
   "source": [
    "# insert multi-data\n",
    "\n",
    "data =  [\n",
    "    {\"H\": 90, \"T\": 32, \"time\": the_time, \"uuid\": \"yang_home\"},\n",
    "    {\"H\": 85, \"T\": 31, \"time\": the_time, \"uuid\": \"yang_home\"}\n",
    "]\n",
    "\n",
    "res = test_coll.insert(data)\n",
    "print('result: ', res)\n",
    "\n",
    "print('----find data----')\n",
    "# 查資料\n",
    "print('--> find all')\n",
    "cursor = test_coll.find() #全抓\n",
    "data = list(cursor)\n",
    "for item in data:\n",
    "    item.pop('_id')\n",
    "data\n"
   ]
  },
  {
   "cell_type": "code",
   "execution_count": 9,
   "metadata": {
    "collapsed": false,
    "deletable": true,
    "editable": true
   },
   "outputs": [
    {
     "data": {
      "text/html": [
       "<div>\n",
       "<style>\n",
       "    .dataframe thead tr:only-child th {\n",
       "        text-align: right;\n",
       "    }\n",
       "\n",
       "    .dataframe thead th {\n",
       "        text-align: left;\n",
       "    }\n",
       "\n",
       "    .dataframe tbody tr th {\n",
       "        vertical-align: top;\n",
       "    }\n",
       "</style>\n",
       "<table border=\"1\" class=\"dataframe\">\n",
       "  <thead>\n",
       "    <tr style=\"text-align: right;\">\n",
       "      <th></th>\n",
       "      <th>H</th>\n",
       "      <th>T</th>\n",
       "      <th>_id</th>\n",
       "      <th>time</th>\n",
       "      <th>uuid</th>\n",
       "    </tr>\n",
       "  </thead>\n",
       "  <tbody>\n",
       "    <tr>\n",
       "      <th>0</th>\n",
       "      <td>80</td>\n",
       "      <td>30</td>\n",
       "      <td>59e41779183b030044d64fbd</td>\n",
       "      <td>2017-10-16 02:20:41</td>\n",
       "      <td>yang_home</td>\n",
       "    </tr>\n",
       "    <tr>\n",
       "      <th>1</th>\n",
       "      <td>90</td>\n",
       "      <td>32</td>\n",
       "      <td>59e4185d183b030044d64fbe</td>\n",
       "      <td>2017-10-16 02:20:41</td>\n",
       "      <td>yang_home</td>\n",
       "    </tr>\n",
       "    <tr>\n",
       "      <th>2</th>\n",
       "      <td>85</td>\n",
       "      <td>31</td>\n",
       "      <td>59e4185d183b030044d64fbf</td>\n",
       "      <td>2017-10-16 02:20:41</td>\n",
       "      <td>yang_home</td>\n",
       "    </tr>\n",
       "    <tr>\n",
       "      <th>3</th>\n",
       "      <td>90</td>\n",
       "      <td>32</td>\n",
       "      <td>59e418dd183b030044d64fc0</td>\n",
       "      <td>2017-10-16 02:20:41</td>\n",
       "      <td>yang_home</td>\n",
       "    </tr>\n",
       "    <tr>\n",
       "      <th>4</th>\n",
       "      <td>85</td>\n",
       "      <td>31</td>\n",
       "      <td>59e418dd183b030044d64fc1</td>\n",
       "      <td>2017-10-16 02:20:41</td>\n",
       "      <td>yang_home</td>\n",
       "    </tr>\n",
       "    <tr>\n",
       "      <th>5</th>\n",
       "      <td>90</td>\n",
       "      <td>32</td>\n",
       "      <td>59e41935183b030044d64fc2</td>\n",
       "      <td>2017-10-16 02:20:41</td>\n",
       "      <td>yang_home</td>\n",
       "    </tr>\n",
       "    <tr>\n",
       "      <th>6</th>\n",
       "      <td>85</td>\n",
       "      <td>31</td>\n",
       "      <td>59e41935183b030044d64fc3</td>\n",
       "      <td>2017-10-16 02:20:41</td>\n",
       "      <td>yang_home</td>\n",
       "    </tr>\n",
       "  </tbody>\n",
       "</table>\n",
       "</div>"
      ],
      "text/plain": [
       "    H   T                       _id                 time       uuid\n",
       "0  80  30  59e41779183b030044d64fbd  2017-10-16 02:20:41  yang_home\n",
       "1  90  32  59e4185d183b030044d64fbe  2017-10-16 02:20:41  yang_home\n",
       "2  85  31  59e4185d183b030044d64fbf  2017-10-16 02:20:41  yang_home\n",
       "3  90  32  59e418dd183b030044d64fc0  2017-10-16 02:20:41  yang_home\n",
       "4  85  31  59e418dd183b030044d64fc1  2017-10-16 02:20:41  yang_home\n",
       "5  90  32  59e41935183b030044d64fc2  2017-10-16 02:20:41  yang_home\n",
       "6  85  31  59e41935183b030044d64fc3  2017-10-16 02:20:41  yang_home"
      ]
     },
     "execution_count": 9,
     "metadata": {},
     "output_type": "execute_result"
    }
   ],
   "source": [
    "import pandas as pd\n",
    "cursor = test_coll.find() #全抓\n",
    "\n",
    "df = pd.DataFrame(list(cursor))\n",
    "df"
   ]
  },
  {
   "cell_type": "markdown",
   "metadata": {
    "deletable": true,
    "editable": true
   },
   "source": [
    "# PostgreSQL"
   ]
  },
  {
   "cell_type": "code",
   "execution_count": 10,
   "metadata": {
    "collapsed": true,
    "deletable": true,
    "editable": true
   },
   "outputs": [],
   "source": [
    "pg_db_url = 'postgres://your-db-url'"
   ]
  },
  {
   "cell_type": "code",
   "execution_count": 11,
   "metadata": {
    "collapsed": true,
    "deletable": true,
    "editable": true
   },
   "outputs": [],
   "source": [
    "from sqlalchemy import create_engine\n",
    "pg_db = create_engine(pg_db_url)"
   ]
  },
  {
   "cell_type": "code",
   "execution_count": 12,
   "metadata": {
    "collapsed": true,
    "deletable": true,
    "editable": true
   },
   "outputs": [],
   "source": [
    "# check and create table\n",
    "resultProxy = pg_db.execute(\"CREATE TABLE IF NOT EXISTS test_table(uuid text NOT NULL, time text NOT NULL, data text)\")\n"
   ]
  },
  {
   "cell_type": "code",
   "execution_count": 18,
   "metadata": {
    "collapsed": true,
    "deletable": true,
    "editable": true
   },
   "outputs": [],
   "source": [
    "import json\n",
    "import time\n",
    "\n",
    "# PostgreSQL insert\n",
    "my_time = time.strftime(\"%Y-%m-%d %H:%M:%S\")\n",
    "uuid = 'yang_home'\n",
    "data = {\"H\": 80, \"T\": 30}\n",
    "data = json.dumps(data)\n",
    "resultProxy=pg_db.execute(\"insert into test_table (uuid, time, data) values('%s', '%s', '%s')\" %(uuid, my_time, data))"
   ]
  },
  {
   "cell_type": "code",
   "execution_count": 20,
   "metadata": {
    "collapsed": false,
    "deletable": true,
    "editable": true
   },
   "outputs": [
    {
     "data": {
      "text/plain": [
       "{'_echo': False,\n",
       " '_saved_cursor': <cursor object at 0x7fce62a09330; closed: -1>,\n",
       " '_soft_closed': True,\n",
       " 'connection': <sqlalchemy.engine.base.Connection at 0x7fce16caf3c8>,\n",
       " 'context': <sqlalchemy.dialects.postgresql.psycopg2.PGExecutionContext_psycopg2 at 0x7fce16caf7b8>,\n",
       " 'cursor': None,\n",
       " 'dialect': <sqlalchemy.dialects.postgresql.psycopg2.PGDialect_psycopg2 at 0x7fce17caa2e8>,\n",
       " 'rowcount': 1}"
      ]
     },
     "execution_count": 20,
     "metadata": {},
     "output_type": "execute_result"
    }
   ],
   "source": [
    "resultProxy.__dict__"
   ]
  },
  {
   "cell_type": "code",
   "execution_count": 17,
   "metadata": {
    "collapsed": false,
    "deletable": true,
    "editable": true
   },
   "outputs": [
    {
     "name": "stdout",
     "output_type": "stream",
     "text": [
      "-- data --\n",
      "[('yang_home', '2017-10-16 03:01:52', '{\"H\": 90, \"T\": 32}')]\n"
     ]
    }
   ],
   "source": [
    "# PostreSQL select\n",
    "resultProxy=pg_db.execute(\"select * from test_table\")\n",
    "data = resultProxy.fetchall()\n",
    "print('-- data --')\n",
    "print(data)\n"
   ]
  },
  {
   "cell_type": "code",
   "execution_count": 21,
   "metadata": {
    "collapsed": true,
    "deletable": true,
    "editable": true
   },
   "outputs": [],
   "source": [
    "# insert multi-data\n",
    "my_time = time.strftime(\"%Y-%m-%d %H:%M:%S\")\n",
    "time.sleep(1)\n",
    "my_time2 = time.strftime(\"%Y-%m-%d %H:%M:%S\")\n",
    "\n",
    "data_list =  [\n",
    "    {'data': {\"H\": 90, \"T\": 32}\n",
    "         , \"time\": my_time\n",
    "         , \"uuid\": \"yang_home\"},\n",
    "    {'data': {\"H\": 80, \"T\": 30}\n",
    "         , \"time\": my_time2\n",
    "         , \"uuid\": \"yang_home\"},\n",
    "]\n",
    "\n",
    "for item in data_list:\n",
    "    uuid = item['uuid']\n",
    "    my_time = item['time']\n",
    "    data = item['data']\n",
    "    data = json.dumps(data)\n",
    "    resultProxy=pg_db.execute(\"insert into test_table (uuid, time, data) values('%s', '%s', '%s')\" %(uuid, my_time, data))"
   ]
  },
  {
   "cell_type": "code",
   "execution_count": 35,
   "metadata": {
    "collapsed": false,
    "deletable": true,
    "editable": true
   },
   "outputs": [
    {
     "name": "stdout",
     "output_type": "stream",
     "text": [
      "-- data --\n",
      "[('yang_home', '2017-10-16 03:01:52', '{\"H\": 90, \"T\": 32}'), ('yang_home', '2017-10-16 03:11:22', '{\"H\": 80, \"T\": 30}'), ('yang_home', '2017-10-16 03:12:50', '{\"H\": 90, \"T\": 32}'), ('yang_home', '2017-10-16 03:12:51', '{\"H\": 80, \"T\": 30}')]\n"
     ]
    }
   ],
   "source": [
    "# PostreSQL select\n",
    "resultProxy=pg_db.execute(\"select * from test_table\")\n",
    "data = resultProxy.fetchall()\n",
    "print('-- data --')\n",
    "print(data)\n"
   ]
  },
  {
   "cell_type": "code",
   "execution_count": 36,
   "metadata": {
    "collapsed": false,
    "deletable": true,
    "editable": true
   },
   "outputs": [
    {
     "data": {
      "text/html": [
       "<div>\n",
       "<style>\n",
       "    .dataframe thead tr:only-child th {\n",
       "        text-align: right;\n",
       "    }\n",
       "\n",
       "    .dataframe thead th {\n",
       "        text-align: left;\n",
       "    }\n",
       "\n",
       "    .dataframe tbody tr th {\n",
       "        vertical-align: top;\n",
       "    }\n",
       "</style>\n",
       "<table border=\"1\" class=\"dataframe\">\n",
       "  <thead>\n",
       "    <tr style=\"text-align: right;\">\n",
       "      <th></th>\n",
       "      <th>0</th>\n",
       "      <th>1</th>\n",
       "      <th>2</th>\n",
       "    </tr>\n",
       "  </thead>\n",
       "  <tbody>\n",
       "    <tr>\n",
       "      <th>0</th>\n",
       "      <td>yang_home</td>\n",
       "      <td>2017-10-16 03:01:52</td>\n",
       "      <td>{\"H\": 90, \"T\": 32}</td>\n",
       "    </tr>\n",
       "    <tr>\n",
       "      <th>1</th>\n",
       "      <td>yang_home</td>\n",
       "      <td>2017-10-16 03:11:22</td>\n",
       "      <td>{\"H\": 80, \"T\": 30}</td>\n",
       "    </tr>\n",
       "    <tr>\n",
       "      <th>2</th>\n",
       "      <td>yang_home</td>\n",
       "      <td>2017-10-16 03:12:50</td>\n",
       "      <td>{\"H\": 90, \"T\": 32}</td>\n",
       "    </tr>\n",
       "    <tr>\n",
       "      <th>3</th>\n",
       "      <td>yang_home</td>\n",
       "      <td>2017-10-16 03:12:51</td>\n",
       "      <td>{\"H\": 80, \"T\": 30}</td>\n",
       "    </tr>\n",
       "  </tbody>\n",
       "</table>\n",
       "</div>"
      ],
      "text/plain": [
       "           0                    1                   2\n",
       "0  yang_home  2017-10-16 03:01:52  {\"H\": 90, \"T\": 32}\n",
       "1  yang_home  2017-10-16 03:11:22  {\"H\": 80, \"T\": 30}\n",
       "2  yang_home  2017-10-16 03:12:50  {\"H\": 90, \"T\": 32}\n",
       "3  yang_home  2017-10-16 03:12:51  {\"H\": 80, \"T\": 30}"
      ]
     },
     "execution_count": 36,
     "metadata": {},
     "output_type": "execute_result"
    }
   ],
   "source": [
    "import pandas as pd\n",
    "\n",
    "df = pd.DataFrame(data)\n",
    "df"
   ]
  },
  {
   "cell_type": "markdown",
   "metadata": {
    "deletable": true,
    "editable": true
   },
   "source": [
    "# MySQL\n",
    "ref: http://mookrs.com/flask-sqlalchemy-mysql-python-3/\n"
   ]
  },
  {
   "cell_type": "code",
   "execution_count": 24,
   "metadata": {
    "collapsed": true,
    "deletable": true,
    "editable": true
   },
   "outputs": [],
   "source": [
    "mysql_db_url = 'mysql://your-db-url'"
   ]
  },
  {
   "cell_type": "code",
   "execution_count": 27,
   "metadata": {
    "collapsed": false,
    "deletable": true,
    "editable": true
   },
   "outputs": [],
   "source": [
    "# 先裝 mysql的connection driver\n",
    "# pip install PyMySQL\n",
    "\n",
    "from sqlalchemy import create_engine\n",
    "# add \"+pymysql\" in url\n",
    "mysql_db_url = 'mysql+pymysql://your-db-url'\n",
    "my_db = create_engine(mysql_db_url)\n"
   ]
  },
  {
   "cell_type": "code",
   "execution_count": 28,
   "metadata": {
    "collapsed": false,
    "deletable": true,
    "editable": true
   },
   "outputs": [
    {
     "data": {
      "text/plain": [
       "{'_echo': False,\n",
       " '_saved_cursor': <pymysql.cursors.Cursor at 0x7fce165739e8>,\n",
       " '_soft_closed': True,\n",
       " 'connection': <sqlalchemy.engine.base.Connection at 0x7fce16573c50>,\n",
       " 'context': <sqlalchemy.dialects.mysql.mysqldb.MySQLExecutionContext_mysqldb at 0x7fce16573320>,\n",
       " 'cursor': None,\n",
       " 'dialect': <sqlalchemy.dialects.mysql.pymysql.MySQLDialect_pymysql at 0x7fce1659d160>,\n",
       " 'rowcount': 0}"
      ]
     },
     "execution_count": 28,
     "metadata": {},
     "output_type": "execute_result"
    }
   ],
   "source": [
    "# check and create table\n",
    "resultProxy = my_db.execute(\"CREATE TABLE IF NOT EXISTS test_table(uuid text NOT NULL, time text NOT NULL, data text)\")\n",
    "resultProxy.__dict__"
   ]
  },
  {
   "cell_type": "code",
   "execution_count": 29,
   "metadata": {
    "collapsed": true,
    "deletable": true,
    "editable": true
   },
   "outputs": [],
   "source": [
    "import json\n",
    "import time\n",
    "\n",
    "# PostgreSQL insert\n",
    "my_time = time.strftime(\"%Y-%m-%d %H:%M:%S\")\n",
    "uuid = 'yang_home'\n",
    "data = {\"H\": 80, \"T\": 30}\n",
    "data = json.dumps(data)\n",
    "resultProxy=my_db.execute(\"insert into test_table (uuid, time, data) values('%s', '%s', '%s')\" %(uuid, my_time, data))"
   ]
  },
  {
   "cell_type": "code",
   "execution_count": 30,
   "metadata": {
    "collapsed": false,
    "deletable": true,
    "editable": true
   },
   "outputs": [
    {
     "data": {
      "text/plain": [
       "{'_echo': False,\n",
       " '_saved_cursor': <pymysql.cursors.Cursor at 0x7fce16515320>,\n",
       " '_soft_closed': True,\n",
       " 'connection': <sqlalchemy.engine.base.Connection at 0x7fce16613b38>,\n",
       " 'context': <sqlalchemy.dialects.mysql.mysqldb.MySQLExecutionContext_mysqldb at 0x7fce165152e8>,\n",
       " 'cursor': None,\n",
       " 'dialect': <sqlalchemy.dialects.mysql.pymysql.MySQLDialect_pymysql at 0x7fce1659d160>,\n",
       " 'rowcount': 1}"
      ]
     },
     "execution_count": 30,
     "metadata": {},
     "output_type": "execute_result"
    }
   ],
   "source": [
    "resultProxy.__dict__"
   ]
  },
  {
   "cell_type": "code",
   "execution_count": 31,
   "metadata": {
    "collapsed": false,
    "deletable": true,
    "editable": true
   },
   "outputs": [
    {
     "name": "stdout",
     "output_type": "stream",
     "text": [
      "-- data --\n",
      "[('yang_home', '2017-10-16 03:32:17', '{\"H\": 80, \"T\": 30}')]\n"
     ]
    }
   ],
   "source": [
    "# select\n",
    "resultProxy=my_db.execute(\"select * from test_table\")\n",
    "data = resultProxy.fetchall()\n",
    "print('-- data --')\n",
    "print(data)\n"
   ]
  },
  {
   "cell_type": "code",
   "execution_count": 32,
   "metadata": {
    "collapsed": true,
    "deletable": true,
    "editable": true
   },
   "outputs": [],
   "source": [
    "# insert multi-data\n",
    "my_time = time.strftime(\"%Y-%m-%d %H:%M:%S\")\n",
    "time.sleep(1)\n",
    "my_time2 = time.strftime(\"%Y-%m-%d %H:%M:%S\")\n",
    "\n",
    "data_list =  [\n",
    "    {'data': {\"H\": 90, \"T\": 32}\n",
    "         , \"time\": my_time\n",
    "         , \"uuid\": \"yang_home\"},\n",
    "    {'data': {\"H\": 80, \"T\": 30}\n",
    "         , \"time\": my_time2\n",
    "         , \"uuid\": \"yang_home\"},\n",
    "]\n",
    "\n",
    "for item in data_list:\n",
    "    uuid = item['uuid']\n",
    "    my_time = item['time']\n",
    "    data = item['data']\n",
    "    data = json.dumps(data)\n",
    "    resultProxy=my_db.execute(\"insert into test_table (uuid, time, data) values('%s', '%s', '%s')\" %(uuid, my_time, data))"
   ]
  },
  {
   "cell_type": "code",
   "execution_count": 37,
   "metadata": {
    "collapsed": false,
    "deletable": true,
    "editable": true
   },
   "outputs": [
    {
     "name": "stdout",
     "output_type": "stream",
     "text": [
      "-- data --\n",
      "[('yang_home', '2017-10-16 03:32:17', '{\"H\": 80, \"T\": 30}'), ('yang_home', '2017-10-16 03:32:53', '{\"H\": 90, \"T\": 32}'), ('yang_home', '2017-10-16 03:32:54', '{\"H\": 80, \"T\": 30}')]\n"
     ]
    }
   ],
   "source": [
    "# select\n",
    "resultProxy=my_db.execute(\"select * from test_table\")\n",
    "data = resultProxy.fetchall()\n",
    "print('-- data --')\n",
    "print(data)"
   ]
  },
  {
   "cell_type": "code",
   "execution_count": 38,
   "metadata": {
    "collapsed": false,
    "deletable": true,
    "editable": true
   },
   "outputs": [
    {
     "data": {
      "text/html": [
       "<div>\n",
       "<style>\n",
       "    .dataframe thead tr:only-child th {\n",
       "        text-align: right;\n",
       "    }\n",
       "\n",
       "    .dataframe thead th {\n",
       "        text-align: left;\n",
       "    }\n",
       "\n",
       "    .dataframe tbody tr th {\n",
       "        vertical-align: top;\n",
       "    }\n",
       "</style>\n",
       "<table border=\"1\" class=\"dataframe\">\n",
       "  <thead>\n",
       "    <tr style=\"text-align: right;\">\n",
       "      <th></th>\n",
       "      <th>0</th>\n",
       "      <th>1</th>\n",
       "      <th>2</th>\n",
       "    </tr>\n",
       "  </thead>\n",
       "  <tbody>\n",
       "    <tr>\n",
       "      <th>0</th>\n",
       "      <td>yang_home</td>\n",
       "      <td>2017-10-16 03:32:17</td>\n",
       "      <td>{\"H\": 80, \"T\": 30}</td>\n",
       "    </tr>\n",
       "    <tr>\n",
       "      <th>1</th>\n",
       "      <td>yang_home</td>\n",
       "      <td>2017-10-16 03:32:53</td>\n",
       "      <td>{\"H\": 90, \"T\": 32}</td>\n",
       "    </tr>\n",
       "    <tr>\n",
       "      <th>2</th>\n",
       "      <td>yang_home</td>\n",
       "      <td>2017-10-16 03:32:54</td>\n",
       "      <td>{\"H\": 80, \"T\": 30}</td>\n",
       "    </tr>\n",
       "  </tbody>\n",
       "</table>\n",
       "</div>"
      ],
      "text/plain": [
       "           0                    1                   2\n",
       "0  yang_home  2017-10-16 03:32:17  {\"H\": 80, \"T\": 30}\n",
       "1  yang_home  2017-10-16 03:32:53  {\"H\": 90, \"T\": 32}\n",
       "2  yang_home  2017-10-16 03:32:54  {\"H\": 80, \"T\": 30}"
      ]
     },
     "execution_count": 38,
     "metadata": {},
     "output_type": "execute_result"
    }
   ],
   "source": [
    "import pandas as pd\n",
    "\n",
    "df = pd.DataFrame(data)\n",
    "df"
   ]
  },
  {
   "cell_type": "markdown",
   "metadata": {
    "deletable": true,
    "editable": true
   },
   "source": [
    "# MariaDB\n",
    "### 其實是和mysql 共用driver的"
   ]
  },
  {
   "cell_type": "code",
   "execution_count": 39,
   "metadata": {
    "collapsed": true,
    "deletable": true,
    "editable": true
   },
   "outputs": [],
   "source": [
    "#maria db url\n",
    "db_url = 'mysql://your-db-url'"
   ]
  },
  {
   "cell_type": "code",
   "execution_count": 40,
   "metadata": {
    "collapsed": true,
    "deletable": true,
    "editable": true
   },
   "outputs": [],
   "source": [
    "# 先裝 mysql的connection driver\n",
    "# pip install PyMySQL\n",
    "\n",
    "from sqlalchemy import create_engine\n",
    "# add \"+pymysql\" in url\n",
    "db_url = 'mysql+pymysql://your-db-url'\n",
    "\n",
    "my_db = create_engine(db_url)\n"
   ]
  },
  {
   "cell_type": "code",
   "execution_count": 41,
   "metadata": {
    "collapsed": false,
    "deletable": true,
    "editable": true
   },
   "outputs": [
    {
     "data": {
      "text/plain": [
       "{'_echo': False,\n",
       " '_saved_cursor': <pymysql.cursors.Cursor at 0x7fce16523438>,\n",
       " '_soft_closed': True,\n",
       " 'connection': <sqlalchemy.engine.base.Connection at 0x7fce16573a58>,\n",
       " 'context': <sqlalchemy.dialects.mysql.mysqldb.MySQLExecutionContext_mysqldb at 0x7fce16523710>,\n",
       " 'cursor': None,\n",
       " 'dialect': <sqlalchemy.dialects.mysql.pymysql.MySQLDialect_pymysql at 0x7fce16515cc0>,\n",
       " 'rowcount': 0}"
      ]
     },
     "execution_count": 41,
     "metadata": {},
     "output_type": "execute_result"
    }
   ],
   "source": [
    "# check and create table\n",
    "resultProxy = my_db.execute(\"CREATE TABLE IF NOT EXISTS test_table(uuid text NOT NULL, time text NOT NULL, data text)\")\n",
    "resultProxy.__dict__"
   ]
  },
  {
   "cell_type": "code",
   "execution_count": 42,
   "metadata": {
    "collapsed": true,
    "deletable": true,
    "editable": true
   },
   "outputs": [],
   "source": [
    "import json\n",
    "import time\n",
    "\n",
    "# PostgreSQL insert\n",
    "my_time = time.strftime(\"%Y-%m-%d %H:%M:%S\")\n",
    "uuid = 'yang_home'\n",
    "data = {\"H\": 80, \"T\": 30}\n",
    "data = json.dumps(data)\n",
    "resultProxy=my_db.execute(\"insert into test_table (uuid, time, data) values('%s', '%s', '%s')\" %(uuid, my_time, data))"
   ]
  },
  {
   "cell_type": "code",
   "execution_count": 43,
   "metadata": {
    "collapsed": false,
    "deletable": true,
    "editable": true
   },
   "outputs": [
    {
     "data": {
      "text/plain": [
       "{'_echo': False,\n",
       " '_saved_cursor': <pymysql.cursors.Cursor at 0x7fce16523b70>,\n",
       " '_soft_closed': True,\n",
       " 'connection': <sqlalchemy.engine.base.Connection at 0x7fce4cf2b898>,\n",
       " 'context': <sqlalchemy.dialects.mysql.mysqldb.MySQLExecutionContext_mysqldb at 0x7fce16523b38>,\n",
       " 'cursor': None,\n",
       " 'dialect': <sqlalchemy.dialects.mysql.pymysql.MySQLDialect_pymysql at 0x7fce16515cc0>,\n",
       " 'rowcount': 1}"
      ]
     },
     "execution_count": 43,
     "metadata": {},
     "output_type": "execute_result"
    }
   ],
   "source": [
    "resultProxy.__dict__"
   ]
  },
  {
   "cell_type": "code",
   "execution_count": 44,
   "metadata": {
    "collapsed": false,
    "deletable": true,
    "editable": true
   },
   "outputs": [
    {
     "name": "stdout",
     "output_type": "stream",
     "text": [
      "-- data --\n",
      "[('yang_home', '2017-10-16 03:55:41', '{\"H\": 80, \"T\": 30}')]\n"
     ]
    }
   ],
   "source": [
    "# select\n",
    "resultProxy=my_db.execute(\"select * from test_table\")\n",
    "data = resultProxy.fetchall()\n",
    "print('-- data --')\n",
    "print(data)\n"
   ]
  },
  {
   "cell_type": "code",
   "execution_count": 45,
   "metadata": {
    "collapsed": true,
    "deletable": true,
    "editable": true
   },
   "outputs": [],
   "source": [
    "# insert multi-data\n",
    "my_time = time.strftime(\"%Y-%m-%d %H:%M:%S\")\n",
    "time.sleep(1)\n",
    "my_time2 = time.strftime(\"%Y-%m-%d %H:%M:%S\")\n",
    "\n",
    "data_list =  [\n",
    "    {'data': {\"H\": 90, \"T\": 32}\n",
    "         , \"time\": my_time\n",
    "         , \"uuid\": \"yang_home\"},\n",
    "    {'data': {\"H\": 80, \"T\": 30}\n",
    "         , \"time\": my_time2\n",
    "         , \"uuid\": \"yang_home\"},\n",
    "]\n",
    "\n",
    "for item in data_list:\n",
    "    uuid = item['uuid']\n",
    "    my_time = item['time']\n",
    "    data = item['data']\n",
    "    data = json.dumps(data)\n",
    "    resultProxy=my_db.execute(\"insert into test_table (uuid, time, data) values('%s', '%s', '%s')\" %(uuid, my_time, data))"
   ]
  },
  {
   "cell_type": "code",
   "execution_count": 46,
   "metadata": {
    "collapsed": false,
    "deletable": true,
    "editable": true
   },
   "outputs": [
    {
     "name": "stdout",
     "output_type": "stream",
     "text": [
      "-- data --\n",
      "[('yang_home', '2017-10-16 03:55:41', '{\"H\": 80, \"T\": 30}'), ('yang_home', '2017-10-16 03:55:53', '{\"H\": 90, \"T\": 32}'), ('yang_home', '2017-10-16 03:55:54', '{\"H\": 80, \"T\": 30}')]\n"
     ]
    }
   ],
   "source": [
    "# select\n",
    "resultProxy=my_db.execute(\"select * from test_table\")\n",
    "data = resultProxy.fetchall()\n",
    "print('-- data --')\n",
    "print(data)"
   ]
  },
  {
   "cell_type": "code",
   "execution_count": 47,
   "metadata": {
    "collapsed": false,
    "deletable": true,
    "editable": true
   },
   "outputs": [
    {
     "data": {
      "text/html": [
       "<div>\n",
       "<style>\n",
       "    .dataframe thead tr:only-child th {\n",
       "        text-align: right;\n",
       "    }\n",
       "\n",
       "    .dataframe thead th {\n",
       "        text-align: left;\n",
       "    }\n",
       "\n",
       "    .dataframe tbody tr th {\n",
       "        vertical-align: top;\n",
       "    }\n",
       "</style>\n",
       "<table border=\"1\" class=\"dataframe\">\n",
       "  <thead>\n",
       "    <tr style=\"text-align: right;\">\n",
       "      <th></th>\n",
       "      <th>0</th>\n",
       "      <th>1</th>\n",
       "      <th>2</th>\n",
       "    </tr>\n",
       "  </thead>\n",
       "  <tbody>\n",
       "    <tr>\n",
       "      <th>0</th>\n",
       "      <td>yang_home</td>\n",
       "      <td>2017-10-16 03:55:41</td>\n",
       "      <td>{\"H\": 80, \"T\": 30}</td>\n",
       "    </tr>\n",
       "    <tr>\n",
       "      <th>1</th>\n",
       "      <td>yang_home</td>\n",
       "      <td>2017-10-16 03:55:53</td>\n",
       "      <td>{\"H\": 90, \"T\": 32}</td>\n",
       "    </tr>\n",
       "    <tr>\n",
       "      <th>2</th>\n",
       "      <td>yang_home</td>\n",
       "      <td>2017-10-16 03:55:54</td>\n",
       "      <td>{\"H\": 80, \"T\": 30}</td>\n",
       "    </tr>\n",
       "  </tbody>\n",
       "</table>\n",
       "</div>"
      ],
      "text/plain": [
       "           0                    1                   2\n",
       "0  yang_home  2017-10-16 03:55:41  {\"H\": 80, \"T\": 30}\n",
       "1  yang_home  2017-10-16 03:55:53  {\"H\": 90, \"T\": 32}\n",
       "2  yang_home  2017-10-16 03:55:54  {\"H\": 80, \"T\": 30}"
      ]
     },
     "execution_count": 47,
     "metadata": {},
     "output_type": "execute_result"
    }
   ],
   "source": [
    "import pandas as pd\n",
    "\n",
    "df = pd.DataFrame(data)\n",
    "df"
   ]
  }
 ],
 "metadata": {
  "kernelspec": {
   "display_name": "Python 3",
   "language": "python",
   "name": "python3"
  },
  "language_info": {
   "codemirror_mode": {
    "name": "ipython",
    "version": 3
   },
   "file_extension": ".py",
   "mimetype": "text/x-python",
   "name": "python",
   "nbconvert_exporter": "python",
   "pygments_lexer": "ipython3",
   "version": "3.6.2"
  }
 },
 "nbformat": 4,
 "nbformat_minor": 2
}